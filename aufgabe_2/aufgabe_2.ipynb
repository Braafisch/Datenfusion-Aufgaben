{
  "nbformat": 4,
  "nbformat_minor": 0,
  "metadata": {
    "colab": {
      "name": "Beispiele.ipynb",
      "provenance": [],
      "collapsed_sections": [],
      "authorship_tag": "ABX9TyNudN/DdvBWmbfb11/pUgxM",
      "include_colab_link": true
    },
    "kernelspec": {
      "name": "python3",
      "display_name": "Python 3"
    },
    "language_info": {
      "name": "python"
    }
  },
  "cells": [
    {
      "cell_type": "markdown",
      "metadata": {
        "id": "view-in-github",
        "colab_type": "text"
      },
      "source": [
        "<a href=\"https://colab.research.google.com/github/Braafisch/Datenfusion-Aufgaben/blob/main/aufgabe_2/aufgabe_2.ipynb\" target=\"_parent\"><img src=\"https://colab.research.google.com/assets/colab-badge.svg\" alt=\"Open In Colab\"/></a>"
      ]
    },
    {
      "cell_type": "code",
      "source": [
        "%matplotlib inline\n",
        "import matplotlib.pyplot as plt\n",
        "import numpy as np\n",
        "from numpy.linalg import inv\n",
        "import pandas as pd\n",
        "from scipy import stats\n",
        "import requests\n",
        "import shutil"
      ],
      "metadata": {
        "id": "LzjWqEAVUyaa"
      },
      "execution_count": 15,
      "outputs": []
    },
    {
      "cell_type": "markdown",
      "source": [
        "Messungen mit dem Gerät A: 10.1m, 10.3, 9.5m, 9.8m, 9.4m\n",
        "\n",
        "\n",
        "Messungen mit dem Gerät B: 11.0m, 10.5m, 9.5m, 10.0m, 9.0m \n",
        "\n",
        "Messunsicherheit von A ist 5%\n",
        "\n",
        "Messunsicherheit von B ist 10%"
      ],
      "metadata": {
        "id": "Ji995oPMP7Nt"
      }
    },
    {
      "cell_type": "markdown",
      "source": [
        "$$\\underline{\\hat{x}}=\\left(\\underline{C}^TR^{-1}\\underline{C}\\right)^{-1}\\underline{C}^TR^{-1}\\underline{y}$$"
      ],
      "metadata": {
        "id": "hfETL0WYws9P"
      }
    },
    {
      "cell_type": "code",
      "execution_count": 2,
      "metadata": {
        "colab": {
          "base_uri": "https://localhost:8080/"
        },
        "id": "UAATt1XVPnTl",
        "outputId": "9f8080c2-0c10-4187-e5e0-599c5fa5c23c"
      },
      "outputs": [
        {
          "output_type": "stream",
          "name": "stdout",
          "text": [
            "[9.856]\n"
          ]
        }
      ],
      "source": [
        "R = np.diagflat(np.append(np.full((1,5),0.05**2),np.full((1,5),0.1**2)))\n",
        "C = np.ones((10,1))\n",
        "y = np.array([10.1,10.3,9.5,9.8,9.4,11.0,10.5,9.5,10.0,9.0])\n",
        "x = np.linalg.multi_dot([np.linalg.inv(np.linalg.multi_dot([C.T,np.linalg.inv(R),C])),C.T,np.linalg.inv(R),y])\n",
        "print(x)"
      ]
    },
    {
      "cell_type": "code",
      "source": [
        "url = 'https://raw.githubusercontent.com/Braafisch/Datenfusion-Aufgaben/main/aufgabe_2/data_n_Y.dat'\n",
        "data_path = '/content/data_n_Y.dat'\n",
        "response = requests.get(url, allow_redirects = True)\n",
        "with open(data_path, 'wb') as data_fileobj:\n",
        "  data_fileobj.write(response.content)\n",
        "\n",
        "data = np.loadtxt(data_path)"
      ],
      "metadata": {
        "id": "GjXbg8a21yX5"
      },
      "execution_count": 12,
      "outputs": []
    },
    {
      "cell_type": "code",
      "source": [
        "y1 = data[:,1]\n",
        "y2 = data[:,2]\n",
        "y3 = data[:,3]"
      ],
      "metadata": {
        "id": "iW-PU7245Ylg"
      },
      "execution_count": 13,
      "outputs": []
    },
    {
      "cell_type": "code",
      "source": [
        "y = np.array([np.mean(y1), np.mean(y2), np.mean(y3)], ndmin=2).T\n",
        "y"
      ],
      "metadata": {
        "id": "Pn3msf6I5zLx",
        "outputId": "7485b99c-78cb-42c4-a180-8590c97c9b28",
        "colab": {
          "base_uri": "https://localhost:8080/"
        }
      },
      "execution_count": 23,
      "outputs": [
        {
          "output_type": "execute_result",
          "data": {
            "text/plain": [
              "array([[ 9.92182725],\n",
              "       [10.20173718],\n",
              "       [ 9.76147333]])"
            ]
          },
          "metadata": {},
          "execution_count": 23
        }
      ]
    },
    {
      "cell_type": "code",
      "source": [
        "C = np.array([[1,1,1]]).T\n",
        "C"
      ],
      "metadata": {
        "id": "SZWBhCGa7FqQ",
        "outputId": "d731ff89-a7fc-4e39-dda1-66bec20ebc70",
        "colab": {
          "base_uri": "https://localhost:8080/"
        }
      },
      "execution_count": 24,
      "outputs": [
        {
          "output_type": "execute_result",
          "data": {
            "text/plain": [
              "array([[1],\n",
              "       [1],\n",
              "       [1]])"
            ]
          },
          "metadata": {},
          "execution_count": 24
        }
      ]
    },
    {
      "cell_type": "code",
      "source": [
        "R = np.cov([y1,y2,y3], rowvar=1)\n",
        "R"
      ],
      "metadata": {
        "id": "9fCbu83J7nZM",
        "outputId": "4f5de1be-7740-459e-e6fb-b285522f7971",
        "colab": {
          "base_uri": "https://localhost:8080/"
        }
      },
      "execution_count": 25,
      "outputs": [
        {
          "output_type": "execute_result",
          "data": {
            "text/plain": [
              "array([[ 0.91525898,  0.12397294, -0.23751871],\n",
              "       [ 0.12397294,  2.11038951, -0.32122048],\n",
              "       [-0.23751871, -0.32122048,  5.19280641]])"
            ]
          },
          "metadata": {},
          "execution_count": 25
        }
      ]
    },
    {
      "cell_type": "code",
      "source": [
        "x = inv(C.T @ inv(R) @ C) @ C.T @ inv(R) @ y\n",
        "x"
      ],
      "metadata": {
        "id": "zAZH5KIZ8hJP",
        "outputId": "abc8b3e8-87ba-43b0-d65b-479582f36b6b",
        "colab": {
          "base_uri": "https://localhost:8080/"
        }
      },
      "execution_count": 26,
      "outputs": [
        {
          "output_type": "execute_result",
          "data": {
            "text/plain": [
              "array([[9.96715038]])"
            ]
          },
          "metadata": {},
          "execution_count": 26
        }
      ]
    }
  ]
}