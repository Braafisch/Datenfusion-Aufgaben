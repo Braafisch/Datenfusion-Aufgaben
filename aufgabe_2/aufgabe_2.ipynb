{
  "nbformat": 4,
  "nbformat_minor": 0,
  "metadata": {
    "colab": {
      "name": "Beispiele.ipynb",
      "provenance": [],
      "collapsed_sections": [],
      "authorship_tag": "ABX9TyNHeiCI8iHLCIyqZRWLYiyZ",
      "include_colab_link": true
    },
    "kernelspec": {
      "name": "python3",
      "display_name": "Python 3"
    },
    "language_info": {
      "name": "python"
    }
  },
  "cells": [
    {
      "cell_type": "markdown",
      "metadata": {
        "id": "view-in-github",
        "colab_type": "text"
      },
      "source": [
        "<a href=\"https://colab.research.google.com/github/Braafisch/Datenfusion-Aufgaben/blob/main/aufgabe_2/aufgabe_2.ipynb\" target=\"_parent\"><img src=\"https://colab.research.google.com/assets/colab-badge.svg\" alt=\"Open In Colab\"/></a>"
      ]
    },
    {
      "cell_type": "markdown",
      "source": [
        "Messungen mit dem Gerät A: 10.1m, 10.3, 9.5m, 9.8m, 9.4m\n",
        "\n",
        "\n",
        "Messungen mit dem Gerät B: 11.0m, 10.5m, 9.5m, 10.0m, 9.0m \n",
        "\n",
        "Messunsicherheit von A ist 5%\n",
        "\n",
        "Messunsicherheit von B ist 10%"
      ],
      "metadata": {
        "id": "Ji995oPMP7Nt"
      }
    },
    {
      "cell_type": "code",
      "source": [
        "%matplotlib inline\n",
        "import matplotlib.pyplot as plt\n",
        "import numpy as np\n",
        "from scipy import stats"
      ],
      "metadata": {
        "id": "LzjWqEAVUyaa"
      },
      "execution_count": 1,
      "outputs": []
    },
    {
      "cell_type": "markdown",
      "source": [
        "$$\\underline{\\hat{x}}=\\left(\\underline{C}^TR^{-1}\\underline{C}\\right)^{-1}\\underline{C}^TR^{-1}\\underline{y}$$"
      ],
      "metadata": {
        "id": "hfETL0WYws9P"
      }
    },
    {
      "cell_type": "code",
      "execution_count": 27,
      "metadata": {
        "colab": {
          "base_uri": "https://localhost:8080/"
        },
        "id": "UAATt1XVPnTl",
        "outputId": "06418b9a-af67-4879-9065-eff14df16fd5"
      },
      "outputs": [
        {
          "output_type": "stream",
          "name": "stdout",
          "text": [
            "[9.856]\n"
          ]
        }
      ],
      "source": [
        "R = np.diagflat(np.append(np.full((1,5),0.05**2),np.full((1,5),0.1**2)))\n",
        "C = np.ones((10,1))\n",
        "y = np.array([10.1,10.3,9.5,9.8,9.4,11.0,10.5,9.5,10.0,9.0])\n",
        "x = np.linalg.multi_dot([np.linalg.inv(np.linalg.multi_dot([C.T,np.linalg.inv(R),C])),C.T,np.linalg.inv(R),y])\n",
        "print(x)"
      ]
    }
  ]
}