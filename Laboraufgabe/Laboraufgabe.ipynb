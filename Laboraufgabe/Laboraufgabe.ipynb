{
  "cells": [
    {
      "cell_type": "markdown",
      "metadata": {
        "id": "view-in-github",
        "colab_type": "text"
      },
      "source": [
        "<a href=\"https://colab.research.google.com/github/Braafisch/Datenfusion-Aufgaben/blob/main/Laboraufgabe/Laboraufgabe.ipynb\" target=\"_parent\"><img src=\"https://colab.research.google.com/assets/colab-badge.svg\" alt=\"Open In Colab\"/></a>"
      ]
    },
    {
      "cell_type": "code",
      "execution_count": 1,
      "metadata": {
        "id": "H8krKTMUgncJ"
      },
      "outputs": [],
      "source": [
        "%matplotlib inline\n",
        "import matplotlib.pyplot as plt\n",
        "import numpy as np\n",
        "from numpy.linalg import inv\n",
        "import pandas as pd\n",
        "from scipy import stats\n",
        "import requests\n",
        "import shutil\n",
        "from numpy.random import default_rng"
      ]
    },
    {
      "cell_type": "code",
      "source": [
        "url = 'https://raw.githubusercontent.com/Braafisch/Datenfusion-Aufgaben/main/Laboraufgabe/Leoni.dat'\n",
        "data_path = '/content/Leoni.dat'\n",
        "response = requests.get(url, allow_redirects = True)\n",
        "with open(data_path, 'wb') as data_fileobj:\n",
        "  data_fileobj.write(response.content)\n",
        "\n",
        "data = np.genfromtxt(data_path, names=None, dtype=None, delimiter=';')\n",
        "data"
      ],
      "metadata": {
        "id": "NUQAWuh9g09t",
        "outputId": "648c0aba-7a19-44e5-b3b9-b34b4b5035ca",
        "colab": {
          "base_uri": "https://localhost:8080/"
        }
      },
      "execution_count": 5,
      "outputs": [
        {
          "output_type": "stream",
          "name": "stderr",
          "text": [
            "/usr/local/lib/python3.7/dist-packages/ipykernel_launcher.py:7: VisibleDeprecationWarning: Reading unicode strings without specifying the encoding argument is deprecated. Set the encoding, use None for the system default.\n",
            "  import sys\n"
          ]
        },
        {
          "output_type": "execute_result",
          "data": {
            "text/plain": [
              "array([[b'Eintrag', b'Datum', b'Schlusskurs'],\n",
              "       [b'1', b'01.06.2006', b'29.87'],\n",
              "       [b'2', b'02.06.2006', b'30.36'],\n",
              "       ...,\n",
              "       [b'2998', b'09.02.2018', b'54.94'],\n",
              "       [b'2999', b'12.02.2018', b'54.62'],\n",
              "       [b'3000', b'13.02.2018', b'54.06']], dtype='|S11')"
            ]
          },
          "metadata": {},
          "execution_count": 5
        }
      ]
    },
    {
      "cell_type": "code",
      "source": [
        "y = np.asarray(data[1:,2],dtype=float)#float(data[1:,2])\n",
        "t = np.asarray(data[1:,0],dtype=float)\n",
        "Ts = t[1] - t[0]\n",
        "R = 1\n",
        "#Q = \n",
        "d = data[1:,1]\n",
        "u = np.zeros((y.size,1))"
      ],
      "metadata": {
        "id": "zJPbq97YjJ9x"
      },
      "execution_count": 20,
      "outputs": []
    },
    {
      "cell_type": "code",
      "source": [
        "Ad = np.array([[1,Ts],[0,1]])\n",
        "Bs = np.array([0,0])\n",
        "C = np.array([1,0])\n",
        "D = 0\n",
        "Gd = np.array([Ts,1])"
      ],
      "metadata": {
        "id": "R6eugiva_-Dh"
      },
      "execution_count": 21,
      "outputs": []
    },
    {
      "cell_type": "code",
      "source": [
        "x_dach = np.array([y[0],0])\n",
        "P_dach = 50*np.array([[1,0],[0,1]])"
      ],
      "metadata": {
        "id": "Yel0NcZKmuHS",
        "outputId": "7a86f587-fea8-4573-b1e6-d2135d64f807",
        "colab": {
          "base_uri": "https://localhost:8080/",
          "height": 166
        }
      },
      "execution_count": null,
      "outputs": [
        {
          "output_type": "error",
          "ename": "TypeError",
          "evalue": "ignored",
          "traceback": [
            "\u001b[0;31m---------------------------------------------------------------------------\u001b[0m",
            "\u001b[0;31mTypeError\u001b[0m                                 Traceback (most recent call last)",
            "\u001b[0;32m<ipython-input-23-6d966a345ae9>\u001b[0m in \u001b[0;36m<module>\u001b[0;34m()\u001b[0m\n\u001b[0;32m----> 1\u001b[0;31m \u001b[0mTs\u001b[0m\u001b[0;34m=\u001b[0m\u001b[0mt\u001b[0m\u001b[0;34m[\u001b[0m\u001b[0;36m1\u001b[0m\u001b[0;34m]\u001b[0m\u001b[0;34m-\u001b[0m\u001b[0mt\u001b[0m\u001b[0;34m[\u001b[0m\u001b[0;36m0\u001b[0m\u001b[0;34m]\u001b[0m\u001b[0;34m\u001b[0m\u001b[0;34m\u001b[0m\u001b[0m\n\u001b[0m",
            "\u001b[0;31mTypeError\u001b[0m: unsupported operand type(s) for -: 'numpy.bytes_' and 'numpy.bytes_'"
          ]
        }
      ]
    }
  ],
  "metadata": {
    "interpreter": {
      "hash": "55ffbb2030bc4ba8a90331074a2555aa23a48afc6bb413e2427712cfe83133da"
    },
    "kernelspec": {
      "display_name": "Python 3.10.4 64-bit",
      "language": "python",
      "name": "python3"
    },
    "language_info": {
      "codemirror_mode": {
        "name": "ipython",
        "version": 3
      },
      "file_extension": ".py",
      "mimetype": "text/x-python",
      "name": "python",
      "nbconvert_exporter": "python",
      "pygments_lexer": "ipython3",
      "version": "3.10.4"
    },
    "orig_nbformat": 4,
    "colab": {
      "name": "Laboraufgabe.ipynb",
      "provenance": [],
      "include_colab_link": true
    }
  },
  "nbformat": 4,
  "nbformat_minor": 0
}