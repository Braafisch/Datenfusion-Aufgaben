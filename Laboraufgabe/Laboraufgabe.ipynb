{
 "cells": [
  {
   "cell_type": "code",
   "execution_count": 1,
   "metadata": {},
   "outputs": [
    {
     "name": "stdout",
     "output_type": "stream",
     "text": [
      "Berlin was geht ab\n"
     ]
    }
   ],
   "source": [
    "print(\"Berlin was geht ab\")"
   ]
  }
 ],
 "metadata": {
  "interpreter": {
   "hash": "55ffbb2030bc4ba8a90331074a2555aa23a48afc6bb413e2427712cfe83133da"
  },
  "kernelspec": {
   "display_name": "Python 3.10.4 64-bit",
   "language": "python",
   "name": "python3"
  },
  "language_info": {
   "codemirror_mode": {
    "name": "ipython",
    "version": 3
   },
   "file_extension": ".py",
   "mimetype": "text/x-python",
   "name": "python",
   "nbconvert_exporter": "python",
   "pygments_lexer": "ipython3",
   "version": "3.10.4"
  },
  "orig_nbformat": 4
 },
 "nbformat": 4,
 "nbformat_minor": 2
}
